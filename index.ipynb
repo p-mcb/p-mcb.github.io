{
 "cells": [
  {
   "cell_type": "markdown",
   "metadata": {},
   "source": [
    "### Hello!\n",
    "\n",
    "This page has some info and documents that hopefully you find interesting. Please take a look around and thanks for visiting."
   ]
  },
  {
   "cell_type": "markdown",
   "metadata": {},
   "source": [
    "### Resume\n",
    "\n",
    "Some background info about past activities and education; feel free to contact for more info\n",
    "\n",
    "[PDF](./mcbrearty.resume.pdf)"
   ]
  },
  {
   "cell_type": "markdown",
   "metadata": {},
   "source": [
    "### Asymptotics in Action\n",
    "\n",
    "A small exercise on statistical inference using linear regression analysis\n",
    "\n",
    "[R Notebook](./asymptotics.html)"
   ]
  },
  {
   "cell_type": "markdown",
   "metadata": {},
   "source": [
    "### Inequality and Growth\n",
    "\n",
    "A dynamic pie chart demonstrating both economic inequality and growth in the US\n",
    "\n",
    "[Python Notebook](https://nbviewer.jupyter.org/github/p-mcb/ineq_growth/blob/master/anim_pie.ipynb)"
   ]
  },
  {
   "cell_type": "markdown",
   "metadata": {},
   "source": [
    "### Contact\n",
    "pmcbr AT sas DOT upenn DOT edu"
   ]
  }
 ],
 "metadata": {
  "kernelspec": {
   "display_name": "Python 3",
   "language": "python",
   "name": "python3"
  },
  "language_info": {
   "codemirror_mode": {
    "name": "ipython",
    "version": 3
   },
   "file_extension": ".py",
   "mimetype": "text/x-python",
   "name": "python",
   "nbconvert_exporter": "python",
   "pygments_lexer": "ipython3",
   "version": "3.6.0"
  }
 },
 "nbformat": 4,
 "nbformat_minor": 2
}
